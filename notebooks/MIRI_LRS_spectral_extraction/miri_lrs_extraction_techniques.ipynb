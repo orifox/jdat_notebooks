{
 "cells": [
  {
   "cell_type": "markdown",
   "metadata": {
    "slideshow": {
     "slide_type": "slide"
    }
   },
   "source": [
    "# MIRI LRS Spectral Extraction Techniques"
   ]
  },
  {
   "cell_type": "markdown",
   "metadata": {},
   "source": [
    "**Use case:** Extract spectra with different techniques.<br>\n",
    "**Data:** MIRI LRS spectrum of Type Ia supernova SN2021aefx, observed by Jha et al in PID 2072 (Obs 1), **where the automated spectral extraction failed**. These data were taken with zero exclusive access period, and published in [Kwok et al 2023](https://ui.adsabs.harvard.edu/abs/2023ApJ...944L...3K/abstract).<br> \n",
    "**Tools:** jdaviz, specviz2d, specreduce, jwst, gwcs, matplotlib, astropy.<br>\n",
    "**Cross-intrument:** NIRSpec, MIRI.<br>\n",
    "**Documentation:** This notebook is part of a STScI's larger [post-pipeline Data Analysis Tools Ecosystem](https://jwst-docs.stsci.edu/jwst-post-pipeline-data-analysis).<br>\n",
    "\n",
    "# Introduction\n",
    "\n",
    "This notebook extracts a 1D spectra from a 2D MIRI LRS spectral observation (single image).  The goal is to provide the ability to extract spectra with different locations, extraction apertures, and techniques than are done in the JWST pipeline using the [Astropy Specreduce package](https://github.com/astropy/specreduce).\n",
    "\n",
    "The notebook also demos how to use Jdaviz's [specviz2d](https://jdaviz.readthedocs.io/en/latest/specviz2d/index.html), which allows users to interactively extract 1D spectra from 2D spectra.\n",
    "\n",
    "The simpliest spectral extraction is \"boxcar\" where all the pixels within some fixed width centered on the source position are summed at each wavelength.  Background subtraction can be done using regions offset from the source center. You can also see the Specreduce [generic Sample Notebook](https://github.com/astropy/specreduce/blob/main/notebook_sandbox/jwst_boxcar/boxcar_extraction.ipynb).\n",
    "\n",
    "For spectra taken with a diffraction limited telescope like JWST, a modification boxcar extraction is to vary the extraction width linearly with wavelength.  Such a scaled boxcar extraction keeps the fraction of the source flux within the extraction region approximately constant with wavelength.\n",
    "\n",
    "For point sources, a PSF-weighted spectral extraction can be done.  Using the PSF to weight the extraction uses the actual PSF as a function of wavelength to optimize the extraction to the pixels with the greatest signal.  PSF-weighted extractions show the largest differences with boxcar extractions at lower S/N values."
   ]
  },
  {
   "cell_type": "markdown",
   "metadata": {},
   "source": [
    "**Note:** Corrections for the finite aperture used in all the extractions have not been applied.  Thus, the physical flux densities of all the extracted spectra are lower than the actual values."
   ]
  },
  {
   "cell_type": "markdown",
   "metadata": {
    "slideshow": {
     "slide_type": "slide"
    }
   },
   "source": [
    "# Imports\n",
    "\n",
    "- *matplotlib.pyplot* for plotting data\n",
    "- *numpy* to handle array functions\n",
    "- *astropy.io fits* for accessing FITS files\n",
    "- *astropy.visualization* for scaling image for display\n",
    "- *astropy.table Table* for reading the pipeline 1d extractions\n",
    "- *jwst datamodels* for reading/access the jwst data"
   ]
  },
  {
   "cell_type": "markdown",
   "metadata": {},
   "source": [
    "<p style=\"font-size:200%; color:#e56020; background-color:#1d1160;\"><b><i>Reviewer note:</i> Begin PEP8 check cells (delete below when finished)</b></p>"
   ]
  },
  {
   "cell_type": "raw",
   "metadata": {},
   "source": [
    "# disable all imported packages' loggers\n",
    "import logging\n",
    "logging.root.manager.loggerDict = {}"
   ]
  },
  {
   "cell_type": "raw",
   "metadata": {},
   "source": [
    "print(pycodestyle_magic.__version__)"
   ]
  },
  {
   "cell_type": "raw",
   "metadata": {},
   "source": [
    "# enable PEP8 checker for this notebook\n",
    "%load_ext pycodestyle_magic\n",
    "%flake8_on --ignore E261,E501,W291,W293\n",
    "\n",
    "# only allow the checker to throw warnings when there's a violation\n",
    "logging.getLogger('flake8').setLevel('ERROR')\n",
    "logging.getLogger('stpipe').setLevel('ERROR')"
   ]
  },
  {
   "cell_type": "markdown",
   "metadata": {},
   "source": [
    "<p style=\"font-size:200%; color:#e56020; background-color:#1d1160;\"><b><i>Reviewer note:</i> Begin PEP8 check cells (delete above when finished)</b></p>"
   ]
  },
  {
   "cell_type": "code",
   "execution_count": null,
   "metadata": {
    "slideshow": {
     "slide_type": "fragment"
    }
   },
   "outputs": [],
   "source": [
    "import matplotlib.pyplot as plt\n",
    "import matplotlib as mpl\n",
    "# %matplotlib inline\n",
    "\n",
    "import numpy as np\n",
    "\n",
    "from gwcs.wcstools import grid_from_bounding_box\n",
    "\n",
    "from astropy.io import fits\n",
    "from astropy.table import Table\n",
    "from astropy.visualization import simple_norm\n",
    "\n",
    "from jwst import datamodels\n",
    "\n",
    "from specreduce.extract import BoxcarExtract, OptimalExtract, HorneExtract\n",
    "from specreduce.tracing import FlatTrace, FitTrace\n",
    "from specreduce.background import Background\n",
    "\n",
    "from jdaviz import Imviz\n",
    "from jdaviz import Specviz\n",
    "from jdaviz import Specviz2d\n",
    "\n",
    "from astropy.utils.data import download_file\n",
    "import os\n",
    "\n",
    "from specutils import Spectrum1D\n",
    "from astropy import units as u\n",
    "\n",
    "# Display the video\n",
    "from IPython.display import HTML, YouTubeVideo\n",
    "\n",
    "import os\n",
    "import urllib.request\n",
    "import tarfile"
   ]
  },
  {
   "cell_type": "code",
   "execution_count": null,
   "metadata": {},
   "outputs": [],
   "source": [
    "# Download all necessary data\n",
    "\n",
    "if os.path.exists(\"boxcar_specviz2d.fits\"):\n",
    "    print(\"Boxcar Specviz2d Extraction Exists\")\n",
    "else:\n",
    "    url = 'https://data.science.stsci.edu/redirect/JWST/jwst-data_analysis_tools/MIRI_LRS_notebook/boxcar_specviz2d.fits'\n",
    "    urllib.request.urlretrieve(url)\n",
    "\n",
    "if os.path.exists(\"horne_specviz2d.fits\"):\n",
    "    print(\"Horne Specviz2d Extraction Exists\")\n",
    "else:\n",
    "    url = 'https://data.science.stsci.edu/redirect/JWST/jwst-data_analysis_tools/MIRI_LRS_notebook/horne_specviz2d.fits'\n",
    "    urllib.request.urlretrieve(url)"
   ]
  },
  {
   "cell_type": "code",
   "execution_count": null,
   "metadata": {},
   "outputs": [],
   "source": [
    "if os.path.exists(\"./data/\"):\n",
    "    print(\"Origina Data Exists\")\n",
    "else:\n",
    "    url = 'https://data.science.stsci.edu/redirect/JWST/jwst-data_analysis_tools/MIRI_LRS_notebook/data.tar.gz'\n",
    "    urllib.request.urlretrieve(url)\n",
    "    \n",
    "    # Unzip files if they haven't already been unzipped\n",
    "    if os.path.exists(\"data/\"):\n",
    "        print(\"Data Directory Already Exists\")\n",
    "    else:\n",
    "        tar = tarfile.open('./data.tar.gz', \"r:gz\")\n",
    "        tar.extractall()\n",
    "        tar.close()"
   ]
  },
  {
   "cell_type": "markdown",
   "metadata": {},
   "source": [
    "#### Developer note: Ask Karl exactly how these functions work? Seems like all weights are equal?"
   ]
  },
  {
   "cell_type": "code",
   "execution_count": null,
   "metadata": {},
   "outputs": [],
   "source": [
    "# useful functions\n",
    "def get_boxcar_weights(center, hwidth, npix):\n",
    "    \"\"\"\n",
    "    Compute the weights given an aperture center, half widths, and number of pixels\n",
    "    \"\"\"\n",
    "    weights = np.zeros((npix))\n",
    "    # pixels with full weight\n",
    "    fullpixels = [max(0, int(center - hwidth + 1)), min(int(center + hwidth), npix)]\n",
    "    weights[fullpixels[0] : fullpixels[1]] = 1.0\n",
    "\n",
    "    # pixels at the edges of the boxcar with partial weight\n",
    "    if fullpixels[0] > 0:\n",
    "        weights[fullpixels[0] - 1] = hwidth - (center - fullpixels[0])\n",
    "    if fullpixels[1] < npix:\n",
    "        weights[fullpixels[1]] = hwidth - (fullpixels[1] - center)\n",
    "\n",
    "    return weights\n",
    "\n",
    "\n",
    "def ap_weight_images(\n",
    "    center, width, bkg_offset, bkg_width, image_size, waves, wavescale=None\n",
    "):\n",
    "    \"\"\"\n",
    "    Create a weight image that defines the desired extraction aperture\n",
    "    and the weight image for the requested background regions\n",
    "\n",
    "    Parameters\n",
    "    ----------\n",
    "    center : float\n",
    "        center of aperture in pixels\n",
    "    width : float\n",
    "        width of apeture in pixels\n",
    "    bkg_offset : float\n",
    "        offset from the extaction edge for the background\n",
    "        never scaled for wavelength\n",
    "    bkg_width : float\n",
    "        width of background region\n",
    "        never scaled with wavelength\n",
    "    image_size : tuple with 2 elements\n",
    "        size of image\n",
    "    waves : array\n",
    "        wavelegth values\n",
    "    wavescale : float\n",
    "        scale the width with wavelength (default=None)\n",
    "        wavescale gives the reference wavelenth for the width value\n",
    "\n",
    "    Returns\n",
    "    -------\n",
    "    wimage, bkg_wimage : (2D image, 2D image)\n",
    "        wimage is the weight image defining the aperature\n",
    "        bkg_image is the weight image defining the background regions\n",
    "    \"\"\"\n",
    "    wimage = np.zeros(image_size)\n",
    "    bkg_wimage = np.zeros(image_size)\n",
    "    hwidth = 0.5 * width\n",
    "    # loop in dispersion direction and compute weights\n",
    "    for i in range(image_size[1]):\n",
    "        if wavescale is not None:\n",
    "            hwidth = 0.5 * width * (waves[i] / wavescale)\n",
    "\n",
    "        wimage[:, i] = get_boxcar_weights(center, hwidth, image_size[0])\n",
    "\n",
    "        # bkg regions\n",
    "        if (bkg_width is not None) & (bkg_offset is not None):\n",
    "            bkg_wimage[:, i] = get_boxcar_weights(\n",
    "                center - hwidth - bkg_offset, bkg_width, image_size[0]\n",
    "            )\n",
    "            bkg_wimage[:, i] += get_boxcar_weights(\n",
    "                center + hwidth + bkg_offset, bkg_width, image_size[0]\n",
    "            )\n",
    "        else:\n",
    "            bkg_wimage = None\n",
    "\n",
    "    return (wimage, bkg_wimage)"
   ]
  },
  {
   "cell_type": "markdown",
   "metadata": {},
   "source": [
    "### Devloper notes (2021)\n",
    "\n",
    "1) The difference between the pipeline (x1d) and the extractions done in this notebook are quite large.  Help in understanding the origin of these differences is needed.\n",
    "\n",
    "2) Not clear how to use the JWST pipeline `extract_1d` (quite complex) code. Help to determine how to use the JWST pipeline code instead of the custom code for boxcar is needed. \n",
    "\n",
    "3) Applying aperture corrections for the finite extraction widths is needed.  Help in how to get the needed informatinom for different (user set) extraction widths is needed. \n",
    "\n",
    "### Partially RESOLVED (March, 2023)\n",
    "\n",
    "1) See notes from Kendrew on limitations of current pipeline. Pipeline will be updated soon.\n",
    "\n",
    "2) While this notebook doesn't go into using the pipeline, boxcar is now integrated into the Astropy Specreduce package. So I wouldn't characterize the boxcar as \"custom code\" any longer.\n",
    "\n",
    "3) Still not resolved."
   ]
  },
  {
   "cell_type": "markdown",
   "metadata": {},
   "source": [
    "## Download Files"
   ]
  },
  {
   "cell_type": "code",
   "execution_count": null,
   "metadata": {},
   "outputs": [],
   "source": [
    "#calfilename = \"det_image_seq5_MIRIMAGE_P750Lexp1_cal.fits\"\n",
    "s2dfile = \"./data/jw02072-o001_t010_miri_p750l_s2d.fits\"\n",
    "x1dfile = \"./data/jw02072-o001_t010_miri_p750l_x1d.fits\"\n",
    "spatialprofilefile = \"./data/jw02072-o001_t010_miri_p750l_s2d.fits\"\n",
    "#mainurl = \"https://data.science.stsci.edu/redirect/JWST/jwst-data_analysis_tools/MIRI_LRS_notebook/\"\n",
    "\n",
    "#calfile_dld = download_file(mainurl + calfilename)\n",
    "#s2dfile_dld = download_file(mainurl + s2dfilename)\n",
    "#x1dfile_dld = download_file(mainurl + x1dfilename)\n",
    "#spatialprofilefile_dld = download_file(mainurl + spatialprofilefilename)"
   ]
  },
  {
   "cell_type": "raw",
   "metadata": {},
   "source": [
    "# rename files so that they have the right extensions\n",
    "# required for the jwst datamodels to work\n",
    "#calfile = calfile_dld + '_cal.fits'\n",
    "#os.rename(calfile_dld, calfile)\n",
    "s2dfile = s2dfile_dld + '_s2d.fits'\n",
    "os.rename(s2dfile_dld, s2dfile)\n",
    "x1dfile = x1dfile_dld + '_x1d.fits'\n",
    "os.rename(x1dfile_dld, x1dfile)\n",
    "spatialprofilefile = spatialprofilefile_dld + '_s2d.fits'\n",
    "os.rename(spatialprofilefile_dld, spatialprofilefile)"
   ]
  },
  {
   "cell_type": "markdown",
   "metadata": {},
   "source": [
    "## File information\n",
    "\n",
    "The data used is a simulation of a LRS slit observation for a blackbody with a similar flux density to the star BD+60d1753, a flux calibration star.  This simulation was created with MIRISim.\n",
    "The simulated exposure was reduced using the JWST pipeline (v0.16.1) through the Detector1 and Spec2 stages.\n",
    "\n",
    "The cal file is one of the Spec2 products and is the calibration full frame image. It contains:\n",
    "\n",
    "1. (Primary): This HDU contains meta-data related to the observation and data reduction.\n",
    "2. (SCI): The calibrated image. Units are MJy/sr.\n",
    "3. (ERR): Uncertainty image.  Units are MJy/sr.\n",
    "4. (DQ): Data quality image.\n",
    "5. (VAR_POISSON): Unc. component 1: Poisson uncertainty image.  Units are (MJy/sr)^2.\n",
    "6. (VAR_RNOISE): Unc. component 2: Read Noise uncertainty image.  Units are (MJy/sr)^2.\n",
    "7. (VAR_FLAT): Unc. component 3: Flat Field uncertainty image.  Units are (MJy/sr)^2.\n",
    "8. (ASDF_METADATA): Metadata.\n",
    "\n",
    "The s2d file is one of the Spec2 products and containes the calibrated rectified cutout of the LRS Slit region.  It has:\n",
    "\n",
    "1. (Primary): This HDU contains meta-data related to the observation and data reduction.\n",
    "2. (WGT): Weight.\n",
    "3. (CON): ??\n",
    "4. (ASDF_METADATA): Metadata."
   ]
  },
  {
   "cell_type": "markdown",
   "metadata": {
    "slideshow": {
     "slide_type": "slide"
    }
   },
   "source": [
    "## Loading data"
   ]
  },
  {
   "cell_type": "code",
   "execution_count": null,
   "metadata": {},
   "outputs": [],
   "source": [
    "# use a jwst datamodel to provide a good interface to the data and wcs info\n",
    "#cal = datamodels.open(calfile)\n",
    "s2d = datamodels.open(s2dfile)"
   ]
  },
  {
   "cell_type": "markdown",
   "metadata": {},
   "source": [
    "Basic information about the image."
   ]
  },
  {
   "cell_type": "code",
   "execution_count": null,
   "metadata": {},
   "outputs": [],
   "source": [
    "#print(\"cal image\")\n",
    "#print(cal.data.shape)\n",
    "#print(np.mean(cal.data))\n",
    "#print(np.amin(cal.data), np.amax(cal.data))\n",
    "print(\"s2d image\")\n",
    "print(s2d.data.shape)\n",
    "print(np.mean(s2d.data))\n",
    "print(np.amin(s2d.data), np.amax(s2d.data))"
   ]
  },
  {
   "cell_type": "markdown",
   "metadata": {},
   "source": [
    "Display the full 2D image"
   ]
  },
  {
   "cell_type": "raw",
   "metadata": {},
   "source": [
    "norm_data = simple_norm(cal.data, 'sqrt')\n",
    "plt.figure(figsize=(6, 6))\n",
    "plt.imshow(cal.data, norm=norm_data, origin=\"lower\")\n",
    "plt.title(\"The full image from the MIRI IMAGER detector\")"
   ]
  },
  {
   "cell_type": "markdown",
   "metadata": {},
   "source": [
    "Display the LRS Slit region only (use s2d)"
   ]
  },
  {
   "cell_type": "code",
   "execution_count": null,
   "metadata": {},
   "outputs": [],
   "source": [
    "# transpose to make it display better\n",
    "image = np.transpose(s2d.data)\n",
    "err = np.transpose(s2d.err)\n",
    "norm_data = simple_norm(image, \"sqrt\")\n",
    "plt.figure(figsize=(10, 3))\n",
    "plt.imshow(image, norm=norm_data, origin=\"lower\")\n",
    "plt.title(\"The LRS region\")"
   ]
  },
  {
   "cell_type": "markdown",
   "metadata": {},
   "source": [
    "#### View the 2D Spectrum in Imviz and get the center of the cross-dispersion "
   ]
  },
  {
   "cell_type": "code",
   "execution_count": null,
   "metadata": {},
   "outputs": [],
   "source": [
    "imviz = Imviz()\n",
    "imviz.app"
   ]
  },
  {
   "cell_type": "code",
   "execution_count": null,
   "metadata": {},
   "outputs": [],
   "source": [
    "imviz.load_data(image)"
   ]
  },
  {
   "cell_type": "code",
   "execution_count": null,
   "metadata": {},
   "outputs": [],
   "source": [
    "viewer = imviz.default_viewer\n",
    "viewer.cuts = '95%'"
   ]
  },
  {
   "cell_type": "markdown",
   "metadata": {},
   "source": [
    "# 1) Default JWST Pipeline 1D extraction"
   ]
  },
  {
   "cell_type": "code",
   "execution_count": null,
   "metadata": {},
   "outputs": [],
   "source": [
    "# Create a spectrum1d\n",
    "jpipe_x1d = Spectrum1D.read(x1dfile)"
   ]
  },
  {
   "cell_type": "code",
   "execution_count": null,
   "metadata": {
    "scrolled": true
   },
   "outputs": [],
   "source": [
    "specviz = Specviz()\n",
    "specviz.app"
   ]
  },
  {
   "cell_type": "code",
   "execution_count": null,
   "metadata": {},
   "outputs": [],
   "source": [
    "specviz.load_spectrum(jpipe_x1d)"
   ]
  },
  {
   "cell_type": "code",
   "execution_count": null,
   "metadata": {},
   "outputs": [],
   "source": [
    "# plot\n",
    "fig, ax = plt.subplots(figsize=(6, 6))\n",
    "\n",
    "ax.plot(jpipe_x1d.spectral_axis, jpipe_x1d.flux, color = 'orange', label=\"jpipe_x1d\")\n",
    "ax.set_xlabel(r\"wavelength [$\\mu$m]\")\n",
    "ax.set_ylabel(\"Flux Density [Jy]\")\n",
    "ax.set_yscale(\"log\")\n",
    "ax.set_ylim(1e-6, 3e-3)\n",
    "ax.set_xlim(4, 13)\n",
    "ax.legend()"
   ]
  },
  {
   "cell_type": "markdown",
   "metadata": {},
   "source": [
    "# 2) Fixed Width Boxcar Extraction (Using Specreduce)\n",
    "\n",
    "Extract a 1D spectrum using a simple boxcar.  Basically collapse the spectrum in the cross-dispersion direction over a specified number of pixels.\n",
    "\n",
    "#### Developer note: Allow for a bad pixel mask"
   ]
  },
  {
   "cell_type": "markdown",
   "metadata": {},
   "source": [
    "## Define extraction parameters"
   ]
  },
  {
   "cell_type": "code",
   "execution_count": null,
   "metadata": {},
   "outputs": [],
   "source": [
    "ext_center = 31.5\n",
    "ext_width = 8\n",
    "bkg_sep = 7\n",
    "bkg_width = 2"
   ]
  },
  {
   "cell_type": "markdown",
   "metadata": {},
   "source": [
    "Plot cross-disperion cut showing the extraction parameters\n",
    "\n",
    "#### Develepor Note: Place trace back into Specviz2d/Imviz/Etc"
   ]
  },
  {
   "cell_type": "code",
   "execution_count": null,
   "metadata": {},
   "outputs": [],
   "source": [
    "# Plot along cross-disperion cut showing the extraction parameters\n",
    "fig, ax = plt.subplots(figsize=(10, 6))\n",
    "y = np.arange(image.shape[0])\n",
    "ax.plot(y, image[:,300], 'k-')\n",
    "mm = np.array([ext_center, ext_center])\n",
    "mm_y = ax.get_ylim()\n",
    "\n",
    "# extraction region\n",
    "ax.axvspan(ext_center - ext_width/2., ext_center + ext_width/2., color='green', alpha=0.1)\n",
    "ax.plot(mm, mm_y, 'b--')\n",
    "ax.plot(mm - ext_width/2., mm_y, 'g:')\n",
    "ax.plot(mm + ext_width/2., mm_y, 'g:')\n",
    "\n",
    "# background region, symmetric on both sides of extraction region\n",
    "ax.axvspan(ext_center - bkg_sep - bkg_width/2., ext_center - bkg_sep + bkg_width/2., color='red', alpha=0.1)\n",
    "ax.plot(mm - bkg_sep - bkg_width/2., mm_y, 'r:')\n",
    "ax.plot(mm - bkg_sep + bkg_width/2., mm_y, 'r:')\n",
    "\n",
    "ax.axvspan(ext_center + bkg_sep - bkg_width/2., ext_center + bkg_sep + bkg_width/2., color='red', alpha=0.1)\n",
    "ax.plot(mm + bkg_sep - bkg_width/2., mm_y, 'r:')\n",
    "ax.plot(mm + bkg_sep + bkg_width/2., mm_y, 'r:')\n",
    "\n",
    "ax.set_title(\"Cross-dispersion Cut at Pixel=300\")"
   ]
  },
  {
   "cell_type": "markdown",
   "metadata": {},
   "source": [
    "## Define Background"
   ]
  },
  {
   "cell_type": "code",
   "execution_count": null,
   "metadata": {},
   "outputs": [],
   "source": [
    "# extract the background using custom individual traces\n",
    "trace = FlatTrace(image, ext_center)\n",
    "bg = Background(image, [trace-bkg_sep, trace+bkg_sep], width=bkg_width)\n",
    "\n",
    "# alternatively, call two_sided class, which does the same as above \n",
    "#bg = Background.two_sided(image, trace, bkg_sep, width=bkg_width)\n",
    "# or in the place of any trace, an int/float can be passed which resolves to a FlatTrace\n",
    "#bg = Background.two_sided(image, ext_center, bkg_sep, width=bkg_width)\n",
    "\n",
    "# or for single sided:\n",
    "# bg = Background.one_sided(image, trace, bkg_sep, width=bkg_width)\n",
    "# bg = Background.one_sided(image, trace, -bkg_sep, width=bkg_width)"
   ]
  },
  {
   "cell_type": "code",
   "execution_count": null,
   "metadata": {},
   "outputs": [],
   "source": [
    "# view the background weighted image\n",
    "plt.figure(figsize=(15, 15))\n",
    "plt.imshow(bg.bkg_wimage, origin=\"lower\")\n",
    "plt.title(\"slit[0] slice\")"
   ]
  },
  {
   "cell_type": "code",
   "execution_count": null,
   "metadata": {},
   "outputs": [],
   "source": [
    "# view the background image\n",
    "plt.figure(figsize=(15, 15))\n",
    "plt.imshow(bg.bkg_image().flux.value, norm=norm_data, origin=\"lower\")\n",
    "plt.title(\"slit[0] slice\")"
   ]
  },
  {
   "cell_type": "code",
   "execution_count": null,
   "metadata": {},
   "outputs": [],
   "source": [
    "# view the background-subtracted image\n",
    "plt.figure(figsize=(15, 15))\n",
    "plt.imshow(bg.sub_image().flux.value, norm=norm_data, origin=\"lower\")\n",
    "plt.title(\"slit[0] slice\")"
   ]
  },
  {
   "cell_type": "markdown",
   "metadata": {},
   "source": [
    "Note that when using median to calculate the background, partial pixel weights are not supported:"
   ]
  },
  {
   "cell_type": "code",
   "execution_count": null,
   "metadata": {},
   "outputs": [],
   "source": [
    "bg_med = Background.two_sided(image, ext_center, bkg_sep, width=bkg_width, statistic='median')\n",
    "plt.figure(figsize=(15, 15))\n",
    "plt.imshow(bg_med.bkg_wimage, origin=\"lower\")\n",
    "plt.title(\"slit[0] slice\")"
   ]
  },
  {
   "cell_type": "markdown",
   "metadata": {},
   "source": [
    "## Extract Trace (multiple options)"
   ]
  },
  {
   "cell_type": "markdown",
   "metadata": {},
   "source": [
    "Optional: we could now refine the initial flat trace by running an automated FitTrace on the subtracted image. This process could be iterated as necessary (recreating the subtracted image with the refined trace, etc)."
   ]
  },
  {
   "cell_type": "code",
   "execution_count": null,
   "metadata": {},
   "outputs": [],
   "source": [
    "fit_trace = FitTrace(image-bg.bkg_image().flux.value, peak_method='gaussian', guess=ext_center)\n",
    "#fit_trace"
   ]
  },
  {
   "cell_type": "code",
   "execution_count": null,
   "metadata": {},
   "outputs": [],
   "source": [
    "flat_trace = FlatTrace(image-bg.bkg_image().flux.value, trace_pos=ext_center)\n",
    "#flat_trace"
   ]
  },
  {
   "cell_type": "markdown",
   "metadata": {},
   "source": [
    "#### <span style=\"color:red\">**Always visualize your traces. If you have noisy data, the fits may not be good. You may need to play around with the type of fit (i.e., Order 1 Polynomial) or different window sizes and parameters. In our case, we'll stick with the flat trace throughout this notebook.** \n",
    "</span>"
   ]
  },
  {
   "cell_type": "markdown",
   "metadata": {
    "tags": []
   },
   "source": [
    "#### Plot old vs new trace"
   ]
  },
  {
   "cell_type": "code",
   "execution_count": null,
   "metadata": {},
   "outputs": [],
   "source": [
    "fig3, ax3 = plt.subplots(figsize=(10,6))\n",
    "plot3 = ax3.imshow(bg.sub_image().flux.value, aspect=4.,\n",
    "                   vmin=0, vmax=bg.sub_image().flux.value.max()/2,\n",
    "                   cmap=mpl.cm.magma, origin='lower',\n",
    "                   extent=(0, bg.sub_image().flux.value.shape[-1],\n",
    "                           0, bg.sub_image().flux.value.shape[0]))\n",
    "fig3.colorbar(plot3)\n",
    "ax3.set_title('LRS Spectrum Traces')\n",
    "ax3.grid()\n",
    "\n",
    "# add the traces\n",
    "ax3.plot(flat_trace.trace, '--', color='#008ca8',\n",
    "         lw=2.5, label='FlatTrace')\n",
    "ax3.plot(fit_trace.trace, '--', color='#00471b',\n",
    "         lw=2.5, label='GaussianFitTrace')\n",
    "ax3.legend(framealpha=.5)\n",
    "plt.show()"
   ]
  },
  {
   "cell_type": "markdown",
   "metadata": {},
   "source": [
    "## Extract"
   ]
  },
  {
   "cell_type": "markdown",
   "metadata": {},
   "source": [
    "#### Dev Note: FitTrace doesn't seem to be working right now, so we'll stick with FlatTrace"
   ]
  },
  {
   "cell_type": "raw",
   "metadata": {},
   "source": [
    "from specutils import Spectrum1D\n",
    "from astropy import units as u\n",
    "flux = s2d.data * u.Jy\n",
    "wavelength = s2d.wavelength * u.um\n",
    "flux.data\n",
    "spec = Spectrum1D(spectral_axis=wavelength, flux=flux)"
   ]
  },
  {
   "cell_type": "code",
   "execution_count": null,
   "metadata": {},
   "outputs": [],
   "source": [
    "#boxcar = BoxcarExtract()\n",
    "ext1d_boxcar_noweights = BoxcarExtract(image-bg, flat_trace, width=ext_width)\n",
    "ext1d_boxcar_noweights = ext1d_boxcar_noweights.spectrum.flux.value\n",
    "ext1d_boxcar_noweights *= 1e6 * s2d.meta.photometry.pixelarea_steradians\n",
    "#spectrum_specreduce_boxcar"
   ]
  },
  {
   "cell_type": "code",
   "execution_count": null,
   "metadata": {},
   "outputs": [],
   "source": [
    "# plot\n",
    "fig, ax = plt.subplots(figsize=(6, 6))\n",
    "\n",
    "ax.plot(jpipe_x1d.spectral_axis, jpipe_x1d.flux, color = 'orange', label=\"jpipe_x1d\")\n",
    "ax.plot(jpipe_x1d.spectral_axis, ext1d_boxcar_noweights, color = 'blue', label='Boxcar')\n",
    "ax.set_xlabel(r\"wavelength [$\\mu$m]\")\n",
    "ax.set_ylabel(\"Flux Density [Jy]\")\n",
    "ax.set_yscale(\"log\")\n",
    "ax.set_ylim(1e-6, 3e-3)\n",
    "ax.set_xlim(4, 13)\n",
    "ax.legend()"
   ]
  },
  {
   "cell_type": "markdown",
   "metadata": {},
   "source": [
    "# 3) Fixed Width Boxcar Extraction (Using Pixel Masks, too)\n"
   ]
  },
  {
   "cell_type": "markdown",
   "metadata": {},
   "source": [
    "#### <span style=\"color:red\">**A basic example of how to create a pixel weight map/mask. In this example, the weights basically create a pixel mask based on the boxcar extraction aperture. It shouldn't actually change any of the results because the boxcar extraction essentially does this for you. But this provides a useful example for more complicated masks that we will create lower in the notebook.**</span> "
   ]
  },
  {
   "cell_type": "code",
   "execution_count": null,
   "metadata": {},
   "outputs": [],
   "source": [
    "from gwcs.wcstools import grid_from_bounding_box\n",
    "\n",
    "#image = np.transpose(s2d.data)\n",
    "grid = grid_from_bounding_box(s2d.meta.wcs.bounding_box)\n",
    "ra, dec, lam = s2d.meta.wcs(*grid)\n",
    "lam_image = np.transpose(lam)\n",
    "\n",
    "# compute a \"rough\" wavelength scale to allow for aperture to scale with wavelength\n",
    "rough_waves = np.average(lam_image, axis=0)\n",
    "\n",
    "# images to use for extraction\n",
    "wimage, bkg_wimage = ap_weight_images(\n",
    "    ext_center,\n",
    "    ext_width,\n",
    "    bkg_width,\n",
    "    bkg_sep,\n",
    "    image.shape,\n",
    "    rough_waves,\n",
    "    wavescale=None,\n",
    ")\n",
    "\n",
    "#boxcar = BoxcarExtract()\n",
    "\n",
    "# without background subtraction\n",
    "image_wg = image * wimage\n",
    "ext1d_boxcar = BoxcarExtract(image_wg, flat_trace, width=ext_width)\n",
    "ext1d_boxcar = ext1d_boxcar.spectrum.flux.value\n",
    "# convert from MJy/sr to Jy\n",
    "ext1d_boxcar *= 1e6 * s2d.meta.photometry.pixelarea_steradians\n",
    "\n",
    "# with background subtraction\n",
    "image_bg = bg.sub_image()\n",
    "image_wg = image_bg * wimage\n",
    "ext1d_boxcar_bkgsub = BoxcarExtract(image_wg, flat_trace, width=ext_width)\n",
    "ext1d_boxcar_bkgsub = ext1d_boxcar_bkgsub.spectrum.flux.value\n",
    "\n",
    "# convert from MJy/sr to Jy\n",
    "ext1d_boxcar_bkgsub *= 1e6 * s2d.meta.photometry.pixelarea_steradians\n",
    "\n",
    "# compute the average wavelength for each column using the weight image\n",
    "# this should correspond directly with the extracted spectrum\n",
    "# wavelengths account for any tiled spectra this way\n",
    "waves_boxcar = np.average(lam_image, weights=wimage, axis=0)\n",
    "waves_boxcar_bkgsub = np.average(lam_image, weights=wimage, axis=0)"
   ]
  },
  {
   "cell_type": "raw",
   "metadata": {},
   "source": [
    "ext1d_boxcar = boxcar(image_wg, auto_trace, width=ext_width)\n",
    "ext1d_boxcar.flux.value"
   ]
  },
  {
   "cell_type": "code",
   "execution_count": null,
   "metadata": {},
   "outputs": [],
   "source": [
    "# plot\n",
    "fig, ax = plt.subplots(figsize=(6, 6))\n",
    "gpts = ext1d_boxcar_bkgsub > 0.\n",
    "gpts = ext1d_boxcar > 0.\n",
    "\n",
    "ax.plot(jpipe_x1d.spectral_axis, ext1d_boxcar_noweights, color = 'blue', label = 'Boxcar; No Mask')\n",
    "ax.plot(waves_boxcar[gpts], ext1d_boxcar[gpts], color = 'green', label=\"Boxcar; Mask\")\n",
    "ax.plot(waves_boxcar_bkgsub[gpts], ext1d_boxcar_bkgsub[gpts], color = 'red', label=\"Boxcar; bkgsub; Mask\")\n",
    "ax.plot(jpipe_x1d.spectral_axis, jpipe_x1d.flux, color = 'orange', label=\"jpipe_x1d\")\n",
    "ax.set_title(\"Fixed boxcar 1D extracted spectrum\")\n",
    "ax.set_xlabel(r\"wavelength [$\\mu$m]\")\n",
    "ax.set_ylabel(\"Flux Density [Jy]\")\n",
    "ax.set_yscale(\"log\")\n",
    "ax.set_ylim(1e-6, 3e-3)\n",
    "ax.set_xlim(4, 13)\n",
    "ax.legend()"
   ]
  },
  {
   "cell_type": "markdown",
   "metadata": {},
   "source": [
    "# 4) Wavelength scaled width boxcar\n",
    "\n",
    "The LRS spatial profile changes as a function of wavelength as JWST is diffraction limited at these wavelengths.  Nominally this means that the FWHM is changing linearly with wavelength.  Scaling the width of the extraction aperture with wavelength accounts for the changing diffraction limit with wavelength to first order."
   ]
  },
  {
   "cell_type": "markdown",
   "metadata": {},
   "source": [
    "#### Developer note:  Not currently possible. Allow for wavelength scaled width in the boxcar"
   ]
  },
  {
   "cell_type": "markdown",
   "metadata": {},
   "source": [
    "# 5) Horne Extraction"
   ]
  },
  {
   "cell_type": "markdown",
   "metadata": {},
   "source": [
    "#### <span style=\"color:red\">**The Horne algorithm preforms a Gaussian fit on the source, it is thus best suited for cases where the source has a Gaussian profile in the cross-dispersion direction. If your profile is not Gaussian, you will likely over- or under-estimate your actual flux.**. \n",
    "</span>\n"
   ]
  },
  {
   "cell_type": "markdown",
   "metadata": {},
   "source": [
    "### Steps in the original Horne (1986) paper:\n",
    "\n",
    "1. Bias subtraction [assumed to be done in earlier block]\n",
    "2. Initial variance estimate [user provides this as an argument]\n",
    "3. Fit sky background [assumed to be done in earlier block]\n",
    " * \"We therefore generally perform a least-squares polynomial fit to the sky data at each wavelength. Individual sky pixels are given weights inversely proportional to their variances as estimated in Step 2\" [overlaps with notebook guide's 3b]\n",
    "4. Extract standard spectrum and its variance\n",
    " * Subtract the sky background found in Step 3 from the image. [sky background calculation is planned as a separate, earlier step of the specreduce workflow]\n",
    "5. Construct spatial profile\n",
    "6. Revise variance estimates [not currently done]\n",
    "7. Mask cosmic ray hits [not currently done]\n",
    "8. Extract optimal spectrum and its variance [currently only extract the spectum, not a variance]\n",
    "9. Iterate Steps 5-8\n",
    "\n",
    "The first four steps as the standard procedure and the last five as add-ons that help squeeze out extra signal-to-noise."
   ]
  },
  {
   "cell_type": "markdown",
   "metadata": {},
   "source": [
    "There are notes [in brackets] on how each step is handled in the proposed HorneExtract/OptimalExtract classes to make it easier to see what the class does and what the user must do themselves.\n",
    "\n",
    "### Steps in the JDAT Notebook guide on optimal extraction:\n",
    "\n",
    "1. Define extraction region [user's responsibility to provide an appropriate image]\n",
    "2. Pick a slice [should not be necessary? can use the whole image as the aperture with good results]\n",
    "3. Define extraction kernel\n",
    " * Select PSF template [assumed to be Gaussian for now. support for Moffat, others?]\n",
    " * Choose a polynomial for background fitting [user provides as an argument]\n",
    "4. Fit extraction kernel to initial slice [all columns are coadded to perform the fit]\n",
    "5. Fit geometric distortion [not currently done]\n",
    " * Determine cross-dispersion bins for trace fitting\n",
    " * Fit a kernel to each bin to find trace center [user provides this as a specreduce.tracing.Trace object]\n",
    " * Polynomial fit of trace centers\n",
    "6. Combine composite model with 2D image to create output 1D spectrum\n",
    " * Create variance image [user provides this as an argument]\n",
    " * Generate 1D spectrum\n",
    "7. Compare with reference 1D spectrum"
   ]
  },
  {
   "cell_type": "code",
   "execution_count": null,
   "metadata": {},
   "outputs": [],
   "source": [
    "ext1d_horne = HorneExtract(image-bg, flat_trace)\n",
    "ext1d_horne = ext1d_horne.spectrum.flux.value\n",
    "# convert from MJy/sr to Jy\n",
    "ext1d_horne *= 1e6 * s2d.meta.photometry.pixelarea_steradians"
   ]
  },
  {
   "cell_type": "code",
   "execution_count": null,
   "metadata": {},
   "outputs": [],
   "source": [
    "# plot\n",
    "fig, ax = plt.subplots(figsize=(6, 6))\n",
    "gpts = ext1d_boxcar_bkgsub > 0.\n",
    "gpts = ext1d_boxcar > 0.\n",
    "\n",
    "ax.plot(jpipe_x1d.spectral_axis, ext1d_boxcar_noweights, color = 'blue', label = 'Boxcar; No Mask')\n",
    "ax.plot(jpipe_x1d.spectral_axis, ext1d_horne, color = 'purple', label = 'Horne; No Mask')\n",
    "ax.plot(waves_boxcar[gpts], ext1d_boxcar[gpts], color = 'green', label=\"Boxcar; Mask\")\n",
    "ax.plot(waves_boxcar_bkgsub[gpts], ext1d_boxcar_bkgsub[gpts], color = 'red', label=\"Boxcar; bkgsub; Mask\")\n",
    "ax.plot(jpipe_x1d.spectral_axis, jpipe_x1d.flux, color = 'orange', label=\"jpipe_x1d\")\n",
    "ax.set_title(\"Fixed boxcar 1D extracted spectrum\")\n",
    "ax.set_xlabel(r\"wavelength [$\\mu$m]\")\n",
    "ax.set_ylabel(\"Flux Density [Jy]\")\n",
    "ax.set_yscale(\"log\")\n",
    "ax.set_ylim(1e-6, 3e-3)\n",
    "ax.set_xlim(4, 13)\n",
    "ax.legend()"
   ]
  },
  {
   "cell_type": "markdown",
   "metadata": {},
   "source": [
    "#### <span style=\"color:red\">**See note above. In this case the Horne extraction likely overestimates the flux because it under-fits the wings of the cross-dispersion profile. Using a real MIRI LRS PSF is a better idea.**</span> "
   ]
  },
  {
   "cell_type": "markdown",
   "metadata": {},
   "source": [
    "\n",
    "# 5) PSF-Weighted Extraction\n",
    "\n",
    "While to first order the PSF FHWM changes linearly with wavelength, this is an approximation.  It is better to use the measured spatial profile as a function of wavelength to extract the spectrum.  This tracks the actual variation with wavelength and optimizes the extraction to the higher S/N measurements.  In general, PSF based extractions show the most improvements over boxcar extractions at lower the S/N.\n",
    "\n",
    "There are two PSF based extraction methods:\n",
    "\n",
    "1. PSF weighted: the spatial profile at each wavelength is used to weight the extraction.\n",
    "2. PSF fitting: the spatial profile is fit at each wavelength with the scale parameter versus wavelength giving the spectrum.\n",
    "\n",
    "#### Only the PSF weighted technique is currently part of this notebook.\n",
    "\n",
    "Note 1: calibration reference file for the specific LRS slit position should be used.<br>\n",
    "Note 2: Small shifts in the centering of the source in the slit should be investigated to see if they impact the PSF based extractions.<br>\n",
    "Limitation: currently it is assumed there are no bad pixels.<br>"
   ]
  },
  {
   "cell_type": "markdown",
   "metadata": {},
   "source": [
    "### PSF weighted extaction"
   ]
  },
  {
   "cell_type": "markdown",
   "metadata": {},
   "source": [
    "#### Generate the PSF profile as a function of wavelength\n",
    "For MIRI LRS slit observations, observations are made at two nod position in the slit after target acquisition.  This means that the location of the sources in the slit is very well known.  Hence, spatial profile (PSF) as a function of wavelength for the two nod positions is straightforward to measure using observations of a bright source.\n",
    "\n",
    "The next few steps generate the needed information for the nod position for which we are extracting spectra based on a simulation of a bright source at the same nod position."
   ]
  },
  {
   "cell_type": "code",
   "execution_count": null,
   "metadata": {},
   "outputs": [],
   "source": [
    "# lrs spatial profile (PSF) as a function of wavelength\n",
    "# currently, this is just a \"high\" S/N observation of a flat spectrum source at the same slit position\n",
    "psf = datamodels.open(spatialprofilefile)\n",
    "# transpose to make it display better\n",
    "lrspsf = np.transpose(psf.data)\n",
    "norm_data = simple_norm(lrspsf, \"sqrt\")\n",
    "plt.figure(figsize=(10, 3))\n",
    "plt.imshow(lrspsf, norm=norm_data, origin=\"lower\")\n",
    "plt.title(\"The LRS Spatial Profile (PSF) Observation\")"
   ]
  },
  {
   "cell_type": "code",
   "execution_count": null,
   "metadata": {},
   "outputs": [],
   "source": [
    "# Mock a LRS spectral profile reference file\n",
    "# Sum along the spatial direction and normalize to 1\n",
    "# assume there is no background (none was included in the MIRISim for the flat spectrum source observation)\n",
    "# ignore regions far from the source using a scaled boxcar weight image\n",
    "# the aperture (psf_width) used in the scaled boxcar weight image could be varied\n",
    "psf_width = 12.0\n",
    "(wimage_scaledboxcar, tmpvar) = ap_weight_images(ext_center, psf_width, bkg_sep, \n",
    "                                                 bkg_width, image.shape, waves_boxcar, wavescale=10.0)\n",
    "\n",
    "psf_weightimage = lrspsf*wimage_scaledboxcar\n",
    "\n",
    "# generate a 2D image of the column sums for division\n",
    "max_psf = np.max(psf_weightimage, axis=0)\n",
    "div_image = np.tile(max_psf, (psf_weightimage.shape[0], 1))\n",
    "div_image[div_image == 0.0] = 1.0  # avoid divide by zero issues\n",
    "\n",
    "# normalize \n",
    "psf_weightimage /= div_image\n",
    "\n",
    "# display\n",
    "norm_data = simple_norm(psf_weightimage, \"sqrt\")\n",
    "plt.figure(figsize=(10, 3))\n",
    "plt.imshow(psf_weightimage, norm=norm_data, origin=\"lower\")\n",
    "plt.title(\"The LRS Spatial Profile Reference Image (Normalized)\")"
   ]
  },
  {
   "cell_type": "code",
   "execution_count": null,
   "metadata": {},
   "outputs": [],
   "source": [
    "fig, ax = plt.subplots(figsize=(6, 6))\n",
    "y = np.arange(psf_weightimage.shape[0])\n",
    "ax.plot(y, psf_weightimage[:,150], label=\"pixel=150\")\n",
    "ax.plot(y, psf_weightimage[:,225], label=\"pixel=225\")\n",
    "ax.plot(y, psf_weightimage[:,300], label=\"pixel=300\")\n",
    "ax.plot(y, psf_weightimage[:,370], label=\"pixel=370\")\n",
    "ax.set_title(\"Cross-dispersion Cuts\")\n",
    "ax.set_xlim(ext_center-psf_width, ext_center+psf_width)\n",
    "ax.legend()"
   ]
  },
  {
   "cell_type": "markdown",
   "metadata": {},
   "source": [
    "Note that the spatial profile becomes narrower as the pixel values increases as this corresponds to the wavelength decreasing."
   ]
  },
  {
   "cell_type": "markdown",
   "metadata": {},
   "source": [
    "#### Extract spectrum using wavelength dependent PSF profiles using the same traces as defined above"
   ]
  },
  {
   "cell_type": "code",
   "execution_count": null,
   "metadata": {},
   "outputs": [],
   "source": [
    "image_bg = bg.sub_image()\n",
    "image_wg = image_bg * psf_weightimage\n",
    "ext1d_boxcar_bkgsub_psfweight = BoxcarExtract(image_wg, flat_trace, width=ext_width)\n",
    "ext1d_boxcar_bkgsub_psfweight = ext1d_boxcar_bkgsub_psfweight.spectrum.flux.value\n",
    "\n",
    "# convert from MJy/sr to Jy\n",
    "ext1d_boxcar_bkgsub_psfweight *= 1e6 * s2d.meta.photometry.pixelarea_steradians\n",
    "\n",
    "# compute the average wavelength for each column using the weight image\n",
    "# this should correspond directly with the extracted spectrum\n",
    "# wavelengths account for any tiled spectra this way\n",
    "waves_boxcar_psfweight = np.average(lam_image, weights=wimage, axis=0)\n",
    "waves_boxcar_bkgsub_psfweight = np.average(lam_image, weights=wimage, axis=0)"
   ]
  },
  {
   "cell_type": "code",
   "execution_count": null,
   "metadata": {},
   "outputs": [],
   "source": [
    "# plot\n",
    "fig, ax = plt.subplots(figsize=(6, 6))\n",
    "gpts = ext1d_boxcar_bkgsub > 0.\n",
    "gpts = ext1d_boxcar > 0.\n",
    "\n",
    "ax.plot(jpipe_x1d.spectral_axis, ext1d_boxcar_noweights, color = 'blue', label = 'Boxcar; No Mask')\n",
    "ax.plot(jpipe_x1d.spectral_axis, ext1d_horne, color = 'purple', label = 'Horne; No Mask')\n",
    "ax.plot(waves_boxcar[gpts], ext1d_boxcar[gpts], color = 'green', label=\"Boxcar; Mask\")\n",
    "ax.plot(waves_boxcar_bkgsub[gpts], ext1d_boxcar_bkgsub[gpts], color = 'red', label=\"Boxcar; bkgsub; Mask\")\n",
    "ax.plot(waves_boxcar_bkgsub_psfweight[gpts], ext1d_boxcar_bkgsub_psfweight[gpts], 'k-', label=\"Boxcar; bkgsub; PSF Weights\", color='cyan')\n",
    "ax.plot(jpipe_x1d.spectral_axis, jpipe_x1d.flux, color = 'orange', label=\"jpipe_x1d\")\n",
    "ax.set_title(\"Fixed boxcar 1D extracted spectrum\")\n",
    "ax.set_xlabel(r\"wavelength [$\\mu$m]\")\n",
    "ax.set_ylabel(\"Flux Density [Jy]\")\n",
    "ax.set_yscale(\"log\")\n",
    "ax.set_ylim(1e-6, 3e-3)\n",
    "ax.set_xlim(4, 13)\n",
    "ax.legend()"
   ]
  },
  {
   "cell_type": "markdown",
   "metadata": {},
   "source": [
    "Note that the psf weighted extraction has visabily higher S/N, especially at the longer wavelengths where the S/N is lowest overall."
   ]
  },
  {
   "cell_type": "code",
   "execution_count": null,
   "metadata": {},
   "outputs": [],
   "source": [
    "# plot in Specviz\n",
    "specviz2 = Specviz()\n",
    "specviz2.app"
   ]
  },
  {
   "cell_type": "code",
   "execution_count": null,
   "metadata": {},
   "outputs": [],
   "source": [
    "ext1d_boxcar_spec1d = Spectrum1D(spectral_axis=waves_boxcar[gpts]*u.micron, flux=ext1d_boxcar[gpts]*u.Jy)\n",
    "ext1d_boxcar_bkgsub_spec1d = Spectrum1D(spectral_axis=waves_boxcar_bkgsub[gpts]*u.micron, flux=ext1d_boxcar_bkgsub[gpts]*u.Jy)\n",
    "ext1d_psfweight_spec1d = Spectrum1D(spectral_axis=waves_boxcar_bkgsub_psfweight[gpts]*u.micron, flux=ext1d_boxcar_bkgsub_psfweight[gpts]*u.Jy)"
   ]
  },
  {
   "cell_type": "code",
   "execution_count": null,
   "metadata": {},
   "outputs": [],
   "source": [
    "specviz2.load_spectrum(ext1d_boxcar_spec1d, data_label='boxcar')\n",
    "specviz2.load_spectrum(ext1d_boxcar_bkgsub_spec1d, data_label='boxcar bkgsub')\n",
    "specviz2.load_spectrum(ext1d_psfweight_spec1d, data_label='psfweight')"
   ]
  },
  {
   "cell_type": "markdown",
   "metadata": {},
   "source": [
    "# 6) PSF-Fitted Extraction\n"
   ]
  },
  {
   "cell_type": "markdown",
   "metadata": {},
   "source": [
    "#### Developer note:  Not currently possible. Allow for wavelength scaled width in the boxcar"
   ]
  },
  {
   "cell_type": "markdown",
   "metadata": {},
   "source": [
    "# 7) Specviz2D Extraction"
   ]
  },
  {
   "cell_type": "markdown",
   "metadata": {},
   "source": [
    "### Watch these two demo videos on how to extract your spectra using Specviz2D"
   ]
  },
  {
   "cell_type": "code",
   "execution_count": null,
   "metadata": {},
   "outputs": [],
   "source": [
    "# Video showing how to use specviz2d\n",
    "HTML('<iframe width=\"700\" height=\"500\" src=\"https://data.science.stsci.edu/redirect/JWST/jwst-data_analysis_tools/MIRI_LRS_notebook/videos/lrs_specviz2d.mov\" frameborder=\"0\" allowfullscreen></iframe>')"
   ]
  },
  {
   "cell_type": "code",
   "execution_count": null,
   "metadata": {},
   "outputs": [],
   "source": [
    "# Video showing how to use specviz2d\n",
    "HTML('<iframe width=\"700\" height=\"500\" src=\"https://data.science.stsci.edu/redirect/JWST/jwst-data_analysis_tools/MIRI_LRS_notebook/videos/lrs_plotting.mov\" frameborder=\"0\" allowfullscreen></iframe>')"
   ]
  },
  {
   "cell_type": "code",
   "execution_count": null,
   "metadata": {},
   "outputs": [],
   "source": [
    "specviz2d = Specviz2d()\n",
    "specviz2d.app"
   ]
  },
  {
   "cell_type": "code",
   "execution_count": null,
   "metadata": {},
   "outputs": [],
   "source": [
    "specviz2d.load_data(s2dfile)"
   ]
  },
  {
   "cell_type": "code",
   "execution_count": null,
   "metadata": {},
   "outputs": [],
   "source": [
    "boxcar = specviz2d.app.get_data_from_viewer('spectrum-viewer',data_label='boxcar')\n",
    "horne = specviz2d.app.get_data_from_viewer('spectrum-viewer',data_label='horne')"
   ]
  },
  {
   "cell_type": "code",
   "execution_count": null,
   "metadata": {},
   "outputs": [],
   "source": [
    "# Check to see if user made a boxcar extraction, otherwise read in from file\n",
    "if not boxcar:\n",
    "    print(\"You didn't extract a spectrum from specviz2d, we will load a pre-extracted spectrum from the video above.\")\n",
    "    boxcar_specviz2d = Spectrum1D.read('boxcar_specviz2d.fits')\n",
    "else:\n",
    "    myboxcar = boxcar.flux.value\n",
    "    myboxcar *= 1e6 * s2d.meta.photometry.pixelarea_steradians\n",
    "    boxcar_specviz2d = Spectrum1D(spectral_axis=jpipe_x1d.spectral_axis, flux=myboxcar*u.Jy)"
   ]
  },
  {
   "cell_type": "code",
   "execution_count": null,
   "metadata": {},
   "outputs": [],
   "source": [
    "if not horne:\n",
    "    print(\"You didn't extract a spectrum from specviz2d, we will load a pre-extracted spectrum from the video above.\")\n",
    "    horne_specviz2d = Spectrum1D.read('horne_specviz2d.fits')\n",
    "else:\n",
    "    myhorne = horne.flux.value\n",
    "    myhorne *= 1e6 * s2d.meta.photometry.pixelarea_steradians\n",
    "    horne_specviz2d = Spectrum1D(spectral_axis=jpipe_x1d.spectral_axis, flux=myhorne*u.Jy)"
   ]
  },
  {
   "cell_type": "code",
   "execution_count": null,
   "metadata": {},
   "outputs": [],
   "source": [
    "# Sarah's Extraction (for reference)\n",
    "sp3_x1dfile = 'data/PID2072_Obs1_LRS_demo_x1d.fits'\n",
    "sp3_x1d = datamodels.open(sp3_x1dfile)\n",
    "ll3 = (sp3_x1dfile.split('/')[-1]).split('.')[0] + ' (Level 3, custom)'"
   ]
  },
  {
   "cell_type": "code",
   "execution_count": null,
   "metadata": {},
   "outputs": [],
   "source": [
    "# plot\n",
    "fig, ax = plt.subplots(figsize=(6, 6))\n",
    "gpts = ext1d_boxcar_bkgsub > 0.\n",
    "gpts = ext1d_boxcar > 0.\n",
    "\n",
    "ax.plot(jpipe_x1d.spectral_axis, ext1d_boxcar_noweights, color = 'blue', label = 'Boxcar; No Mask')\n",
    "ax.plot(jpipe_x1d.spectral_axis, ext1d_horne, color = 'purple', label = 'Horne; No Mask')\n",
    "ax.plot(waves_boxcar[gpts], ext1d_boxcar[gpts], color = 'green', label=\"Boxcar; Mask\")\n",
    "ax.plot(waves_boxcar_bkgsub[gpts], ext1d_boxcar_bkgsub[gpts], color = 'red', label=\"Boxcar; bkgsub; Mask\")\n",
    "ax.plot(waves_boxcar_bkgsub_psfweight[gpts], ext1d_boxcar_bkgsub_psfweight[gpts], 'k-', label=\"Boxcar; bkgsub; PSF Weights\", color='cyan')\n",
    "ax.plot(jpipe_x1d.spectral_axis, jpipe_x1d.flux, color = 'orange', label=\"jpipe_x1d\")\n",
    "\n",
    "ax.plot(boxcar_specviz2d.spectral_axis, boxcar_specviz2d.flux, 'k-', label=\"Boxcar Specviz2D\", color='magenta')\n",
    "ax.plot(horne_specviz2d.spectral_axis, horne_specviz2d.flux, 'k-', label=\"Horne Specviz2D\", color='lawngreen')\n",
    "ax.plot(sp3_x1d.spec[0].spec_table['WAVELENGTH'], sp3_x1d.spec[0].spec_table['FLUX'], label=ll3, color = 'gold')\n",
    "ax.set_title(\"Fixed boxcar 1D extracted spectrum\")\n",
    "ax.set_xlabel(r\"wavelength [$\\mu$m]\")\n",
    "ax.set_ylabel(\"Flux Density [Jy]\")\n",
    "ax.set_yscale(\"log\")\n",
    "ax.set_ylim(1e-6, 3e-3)\n",
    "ax.set_xlim(4, 13)\n",
    "ax.legend(bbox_to_anchor=(1.1, 1.05))"
   ]
  },
  {
   "cell_type": "markdown",
   "metadata": {},
   "source": [
    "## Additional Resources\n",
    "\n",
    "- [MIRI LRS](https://jwst-docs.stsci.edu/mid-infrared-instrument/miri-observing-modes/miri-low-resolution-spectroscopy)\n",
    "- [MIRISim](http://www.stsci.edu/jwst/science-planning/proposal-planning-toolbox/mirisim)\n",
    "- [JWST pipeline](https://jwst-docs.stsci.edu/jwst-data-reduction-pipeline)\n",
    "- PSF weighted extraction [Horne 1986, PASP, 98, 609](https://ui.adsabs.harvard.edu/abs/1986PASP...98..609H/abstract)."
   ]
  },
  {
   "cell_type": "markdown",
   "metadata": {
    "slideshow": {
     "slide_type": "slide"
    }
   },
   "source": [
    "## About this notebook\n",
    "\n",
    "**Author:** Karl Gordon, JWST\n",
    "**Updated On:** 2020-07-07"
   ]
  },
  {
   "cell_type": "markdown",
   "metadata": {},
   "source": [
    "***"
   ]
  },
  {
   "cell_type": "markdown",
   "metadata": {},
   "source": [
    "[Top of Page](#top)\n",
    "<img style=\"float: right;\" src=\"https://raw.githubusercontent.com/spacetelescope/notebooks/master/assets/stsci_pri_combo_mark_horizonal_white_bkgd.png\" alt=\"Space Telescope Logo\" width=\"200px\"/> "
   ]
  }
 ],
 "metadata": {
  "kernelspec": {
   "display_name": "Python 3 (ipykernel)",
   "language": "python",
   "name": "python3"
  },
  "language_info": {
   "codemirror_mode": {
    "name": "ipython",
    "version": 3
   },
   "file_extension": ".py",
   "mimetype": "text/x-python",
   "name": "python",
   "nbconvert_exporter": "python",
   "pygments_lexer": "ipython3",
   "version": "3.10.9"
  }
 },
 "nbformat": 4,
 "nbformat_minor": 4
}
